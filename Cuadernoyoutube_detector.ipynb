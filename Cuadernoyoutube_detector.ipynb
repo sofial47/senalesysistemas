{
  "nbformat": 4,
  "nbformat_minor": 0,
  "metadata": {
    "colab": {
      "private_outputs": true,
      "provenance": [],
      "include_colab_link": true
    },
    "kernelspec": {
      "name": "python3",
      "display_name": "Python 3"
    },
    "language_info": {
      "name": "python"
    }
  },
  "cells": [
    {
      "cell_type": "markdown",
      "metadata": {
        "id": "view-in-github",
        "colab_type": "text"
      },
      "source": [
        "<a href=\"https://colab.research.google.com/github/sofial47/senalesysistemas/blob/main/Cuadernoyoutube_detector.ipynb\" target=\"_parent\"><img src=\"https://colab.research.google.com/assets/colab-badge.svg\" alt=\"Open In Colab\"/></a>"
      ]
    },
    {
      "cell_type": "code",
      "execution_count": null,
      "metadata": {
        "id": "qmaPHWwtvLHa"
      },
      "outputs": [],
      "source": [
        "#cargar datos desde drive acceso libre\n",
        "#https://docs.google.com/spreadsheets/d/1o9Bw_W0Au5LgqMGteDRROf0avbmyMCyy/edit?usp=sharing&ouid=108533457420906937206&rtpof=true&sd=true\n",
        "#1o9Bw_W0Au5LgqMGteDRROf0avbmyMCyy\n",
        "FILEID = \"1o9Bw_W0Au5LgqMGteDRROf0avbmyMCyy\" #\"1DxI5wQpqEWksw2BqJnG7n0IgNQ_xByX-\"\n",
        "\n",
        "!wget --load-cookies /tmp/cookies.txt \"https://docs.google.com/uc?export=download&confirm=$(wget --quiet --save-cookies /tmp/cookies.txt --keep-session-cookies --no-check-certificate 'https://docs.google.com/uc?export=download&id='$FILEID -O- | sed -rn 's/.*confirm=([0-9A-Za-z_]+).*/\\1\\n/p')&id=\"$FILEID -O  canciones.xlsx && rm -rf /tmp/cookies.txt\n",
        "#!unzip -o codigos.zip\n",
        "!dir"
      ]
    },
    {
      "cell_type": "code",
      "source": [
        "import pandas as pd\n",
        "import numpy as np\n",
        "import matplotlib.pyplot as plt\n",
        "\n",
        "file_ = 'canciones.xlsx'#leer archivo xlsx con link, band, type\n",
        "X  = pd.read_excel(file_)\n",
        "X#imprimir filas iniciales"
      ],
      "metadata": {
        "id": "NF9zfZdPv7JN"
      },
      "execution_count": null,
      "outputs": []
    },
    {
      "cell_type": "code",
      "source": [
        "#instalar librerias necesarias para descargar audios youtube\n",
        "!python3 -m pip install --force-reinstall https://github.com/yt-dlp/yt-dlp/archive/master.tar.gz\n",
        "!pip install soundfile\n",
        "\n",
        "# Paquete de carga de cookies para el control anti-bots captcha\n",
        "!pip install browser-cookie3\n",
        "\n",
        "import os\n",
        "import yt_dlp as youtube_dl\n",
        "import browser_cookie3\n",
        "\n",
        "try:\n",
        "    cookies = browser_cookie3.firefox()\n",
        "except:\n",
        "    print(\"No se pueden descargar cookies desde firefox. Intentando Chrome...\")\n",
        "    try:\n",
        "        cookies = browser_cookie3.chrome()\n",
        "    except:\n",
        "        print(\"No se pueden descargar cookies desde Chrome. Por favor asegúrate de estar logueado en Youtube desde tu navegador.\")\n",
        "        cookies = None\n",
        "\n",
        "#funcion para descargar mp3 desde youtube\n",
        "def download_ytvid_as_mp3(video_url,name):\n",
        "    #video_url = input(\"enter url of youtube video:\")\n",
        "    options={\n",
        "        'format':'bestaudio/best',\n",
        "        'keepvideo':False,\n",
        "        'outtmpl':f'{name}.mp3',\n",
        "    }\n",
        "    if cookies:\n",
        "        options['cookiefile'] = None\n",
        "        options['cookiejar'] = cookies;\n",
        "\n",
        "    with youtube_dl.YoutubeDL(options) as ydl:\n",
        "        try:\n",
        "            video_info = ydl.extract_info(video_url, download=False)\n",
        "            ydl.download([video_info['webpage_url']])\n",
        "            print(\"Download complete... {}\".format(filename))\n",
        "        except Exception as e:\n",
        "            print(f\"Error descargando {video_url}: {e}\")"
      ],
      "metadata": {
        "id": "-0GnJhn9wYpY"
      },
      "execution_count": null,
      "outputs": []
    },
    {
      "cell_type": "code",
      "source": [
        "import subprocess\n",
        "import os\n",
        "\n",
        "#crear carpeta con resultados\n",
        "try:\n",
        "  os.mkdir('results')\n",
        "except:\n",
        "  print(\"Carpeta results ya existe\")\n",
        "\n",
        "#recorrer excel con videos\n",
        "N, P = X.shape\n",
        "Ns = N * 5 #cantidad de segmentos por cancion\n",
        "\n",
        "for n in range(N):\n",
        "    print(f\"video {n+1} de {N}\")\n",
        "    print(f\"link: {X.loc[n,'link']}\\n\")\n",
        "    print(f\"band: {X.loc[n,'band']}\\n\")\n",
        "    print(f\"type: {X.loc[n,'type']}\\n\")\n",
        "    #ruta video n-th\n",
        "    name_ = 'results/'+X.loc[n,'band']+\"_\"+str(n)+\"_\"+str(X.loc[n,'type_num']) # #video+nombre+tipo de genero musical\n",
        "    #descargar mp3 desde youtube\n",
        "    try: # Added try block to catch download errors\n",
        "        download_ytvid_as_mp3(X.loc[n,'link'],name_)\n",
        "        #convertir a .wav\n",
        "        subprocess.call(['ffmpeg','-y', '-i', name_+'.mp3',\n",
        "                       name_+'.wav'])\n",
        "    except youtube_dl.utils.DownloadError as e: # Catch the specific DownloadError\n",
        "        print(f\"Skipping video {X.loc[n,'link']} due to download error: {e}\") # Print a message and skip"
      ],
      "metadata": {
        "id": "8q0Xv9BcwzeD"
      },
      "execution_count": null,
      "outputs": []
    },
    {
      "cell_type": "code",
      "source": [
        "#cargar .wavs y partir audios\n",
        "#lista archivos .wav\n",
        "path = 'results/'\n",
        "wav_files = [f for f in os.listdir(path) if f.endswith('.wav')]\n",
        "wav_files"
      ],
      "metadata": {
        "id": "gX5bdp-7w--s"
      },
      "execution_count": null,
      "outputs": []
    },
    {
      "cell_type": "code",
      "source": [
        "#import soundfile as sf # para instalar pip install soundfile\n",
        "#from scipy.signal import resample_poly\n",
        "\n",
        "\n",
        "#leer archivos y crear np.array audios\n",
        "#fs = 48000\n",
        "#tl = np.array([30,40,50,60,70,80]) #puntos lectura\n",
        "#ts = 5 #t segmento\n",
        "#Ns = len(wav_files)*len(tl) #cantidad segmentos\n",
        "#x_t = np.zeros((Ns,int(ts*fs),2)) #Ns segmentos, cantidad de muestras, 2 canales (stereo)\n",
        "#label = np.zeros((Ns,1)) #vector tipo de genero\n",
        "#type_c = X['type'].unique()\n",
        "#name_c = []\n",
        "#leer archivos wav\n",
        "#i = 0\n",
        "#for name in wav_files:#lectura audio .wav\n",
        " #   x, fs_i = sf.read(path+name)\n",
        "  #  for ti in tl: #segmentos de tiempo\n",
        "   #     print(name,'x',x.shape,'fs actual:',fs_i)\n",
        "    #    x_t[i]=x[int(fs*ti):int(fs*(ti+ts)),:]\n",
        "        #xc = x[int(fs*ti):int(fs*(ti+ts)),:]\n",
        "        #if fs_i < fs:\n",
        "          # Resample using resample_poly\n",
        "         # gcd = np.gcd(fs, fs_i)\n",
        "          #up = fs // gcd\n",
        "         # down = fs_i // gcd\n",
        "          #xc = resample_poly(x, up=up, down=down)\n",
        "        #x_t[i] = xc\n",
        "     #   label[i] = int(name[-5]) #tipo de genero\n",
        "      #  name_c += [name[:-6]]\n",
        "       # print(f\"{i} lectura: {name}; segundo {ti}:{ti+ts}; tipo música: {type_c[int(label[i])-1]}\")\n",
        "        #i+=1\n",
        "#x_t.shape"
      ],
      "metadata": {
        "id": "nOn4GrOkzZvk"
      },
      "execution_count": null,
      "outputs": []
    },
    {
      "cell_type": "code",
      "source": [
        "import soundfile as sf # para instalar pip install soundfile\n",
        "from scipy.signal import resample_poly\n",
        "import numpy as np # Ensure numpy is imported for np.gcd and other operations\n",
        "\n",
        "#leer archivos y crear np.array audios\n",
        "fs = 48000\n",
        "tl = np.array([30,40,50,60,70,80]) #puntos lectura, cambie este\n",
        "#tl=np.arange(0,250,5)\n",
        "ts = 5 #t segmento\n",
        "Ns = len(wav_files)*len(tl) #cantidad segmentos\n",
        "x_t = np.zeros((Ns,int(ts*fs),2)) #Ns segmentos, cantidad de muestras, 2 canales (stereo)\n",
        "label = np.zeros((Ns,1)) #vector tipo de genero\n",
        "type_c = X['type'].unique()\n",
        "name_c = []\n",
        "#leer archivos wav\n",
        "i = 0\n",
        "for name in wav_files:#lectura audio .wav\n",
        "    x, fs_i = sf.read(path+name)\n",
        "\n",
        "    # Verificar la forma de x\n",
        "    if x.ndim != 2 or x.shape[1] != 2:\n",
        "        print(f\"Advertencia: El archivo {name} no tiene 2 canales. Shape: {x.shape}. Saltando.\")\n",
        "        continue # Saltar a la siguiente iteración si no es estéreo de 2 canales\n",
        "\n",
        "    for ti in tl: #segmentos de tiempo\n",
        "        print(f\"Procesando {name}, segundo {ti}:{ti+ts}, tipo música: {type_c[int(label[i])-1]}\")\n",
        "        print(f\"  Shape de audio completo: {x.shape}, fs actual: {fs_i}\")\n",
        "\n",
        "        # Calcular los índices de inicio y fin del segmento en la frecuencia de muestreo original\n",
        "        start_sample = int(fs_i * ti)\n",
        "        end_sample = int(fs_i * (ti + ts))\n",
        "\n",
        "        # Extraer el segmento en la frecuencia de muestreo original\n",
        "        xc = x[start_sample:end_sample,:]\n",
        "        print(f\"  Shape del segmento extraído (antes de remuestreo): {xc.shape}\")\n",
        "\n",
        "        # Check if resampling is needed\n",
        "        # Comprobar si se necesita remuestreo\n",
        "        if fs_i != fs:\n",
        "            print(f\"  Remuestreando de {fs_i} Hz a {fs} Hz.\")\n",
        "            # Resample using resample_poly\n",
        "            # Remuestrear usando resample_poly\n",
        "            # Calculate the ratio for resampling\n",
        "            # Calcular la relación para el remuestreo\n",
        "            gcd = np.gcd(fs, fs_i)\n",
        "            up = fs // gcd\n",
        "            down = fs_i // gcd\n",
        "            # Apply resampling\n",
        "            # Aplicar remuestreo\n",
        "            xc_resampled = resample_poly(xc, up=up, down=down)\n",
        "\n",
        "            # Verificar la forma del segmento remuestreado\n",
        "            print(f\"  Shape del segmento remuestreado: {xc_resampled.shape}\")\n",
        "\n",
        "            # Asegurarse de que el segmento remuestreado tenga el número correcto de muestras\n",
        "            # Truncamos o rellenamos con ceros si es necesario para asegurar la forma exacta\n",
        "            target_samples = int(ts * fs)\n",
        "            if xc_resampled.shape[0] != target_samples:\n",
        "                print(f\"  Corrigiendo el número de muestras remuestreadas de {xc_resampled.shape[0]} a {target_samples}.\")\n",
        "                temp_xc = np.zeros((target_samples, 2))\n",
        "                copy_samples = min(xc_resampled.shape[0], target_samples)\n",
        "                temp_xc[:copy_samples, :] = xc_resampled[:copy_samples, :]\n",
        "                x_t[i] = temp_xc\n",
        "            else:\n",
        "                 x_t[i] = xc_resampled\n",
        "        else:\n",
        "            # If sampling rates are the same, just assign the segment\n",
        "            # Si las frecuencias de muestreo son las mismas, simplemente asignar el segmento\n",
        "            # Asegurarse de que el segmento extraído tenga la forma correcta\n",
        "            target_samples = int(ts * fs)\n",
        "            if xc.shape[0] != target_samples:\n",
        "                 print(f\"  Advertencia: El segmento extraído a la misma fs ({fs_i}) no tiene {target_samples} muestras. Shape: {xc.shape}. Rellenando/Truncando.\")\n",
        "                 temp_xc = np.zeros((target_samples, 2))\n",
        "                 copy_samples = min(xc.shape[0], target_samples)\n",
        "                 temp_xc[:copy_samples, :] = xc[:copy_samples, :]\n",
        "                 x_t[i] = temp_xc\n",
        "            else:\n",
        "                x_t[i] = xc\n",
        "\n",
        "\n",
        "        # Solo asignamos la etiqueta si el segmento fue procesado (no saltado por no tener 2 canales)\n",
        "        # name[-5] asume que el tipo está en el 5º carácter desde el final\n",
        "        # Asegurarse de que este índice es correcto y que el nombre tiene suficientes caracteres\n",
        "        try:\n",
        "            label[i] = int(name[-5]) #tipo de genero\n",
        "        except (ValueError, IndexError):\n",
        "             print(f\"Advertencia: No se pudo extraer el tipo de género del nombre del archivo {name}. Asegúrese de que el formato del nombre sea correcto.\")\n",
        "             # Decide cómo manejar esto. Podrías asignar un valor por defecto o saltar este segmento/archivo.\n",
        "             # Por ahora, asignaremos un 0 y mostraremos una advertencia.\n",
        "             label[i] = 0\n",
        "\n",
        "\n",
        "        name_c += [name[:-6]]\n",
        "        # Ajustamos el print para usar la etiqueta asignada, en caso de error\n",
        "        label_val = int(label[i])\n",
        "        type_display = \"Desconocido\"\n",
        "        if 0 < label_val <= len(type_c):\n",
        "             type_display = type_c[label_val-1]\n",
        "\n",
        "        print(f\"{i} lectura: {name_c[-1]}; segundo {ti}:{ti+ts}; tipo música: {type_display}\")\n",
        "        i+=1\n",
        "\n",
        "# Redimensionar label para que coincida con el número actual de segmentos procesados, en caso de que algunos se saltaran\n",
        "if i < Ns:\n",
        "    print(f\"Solo se procesaron {i} segmentos de los {Ns} esperados.\")\n",
        "    x_t = x_t[:i]\n",
        "    label = label[:i]\n",
        "\n",
        "x_t.shape\n",
        "print(f\"Total de segmentos procesados: {x_t.shape[0]}\")"
      ],
      "metadata": {
        "id": "LWCK9Xs89MFh"
      },
      "execution_count": null,
      "outputs": []
    },
    {
      "cell_type": "code",
      "source": [
        "from IPython.display import Audio #reproducir segmento\n",
        "i = 0\n",
        "Audio(x_t[i].T,rate=fs)"
      ],
      "metadata": {
        "id": "YM3ltcs6zOHW"
      },
      "execution_count": null,
      "outputs": []
    },
    {
      "cell_type": "code",
      "source": [
        "#calculo de fourier\n",
        "vf = np.fft.rfftfreq(x_t.shape[1],1/fs) #calculo vector de frecuencias\n",
        "Xw = np.fft.rfft(x_t,axis=1).mean(axis=-1) #transformada rapida de Fourier para señal Real a lo largo del tiempo (axis=1) y se promedian los dos canales\n",
        "Xw.shape"
      ],
      "metadata": {
        "id": "qcd1pUoz2KM5"
      },
      "execution_count": null,
      "outputs": []
    },
    {
      "cell_type": "code",
      "source": [
        "#grafica tiempo y fourier\n",
        "plt.plot(np.arange(0,ts,1/fs),x_t.mean(axis=-1).T) #se promedian los dos canales stereo\n",
        "plt.xlabel('t[s]')\n",
        "plt.ylabel('x(t)')\n",
        "plt.show()"
      ],
      "metadata": {
        "id": "NiacFvIx4vpD"
      },
      "execution_count": null,
      "outputs": []
    },
    {
      "cell_type": "code",
      "source": [
        "plt.plot(vf,abs(Xw).T)\n",
        "plt.xlabel('f[Hz]')\n",
        "plt.ylabel('|X(f)|')\n",
        "plt.show()"
      ],
      "metadata": {
        "id": "roZkalWc5cqA"
      },
      "execution_count": null,
      "outputs": []
    },
    {
      "cell_type": "code",
      "source": [
        "#se normalizan espectros entre 0 y 1 para evitar inconsistencias por ampliltudes máximas\n",
        "from sklearn.preprocessing import MinMaxScaler\n",
        "sca = MinMaxScaler()\n",
        "Xw_ = sca.fit_transform(abs(Xw).T).T\n",
        "\n",
        "plt.plot(vf,Xw_.T)\n",
        "plt.xlabel('f[Hz]')\n",
        "plt.ylabel('|X(f)|')\n",
        "plt.show()\n",
        "\n",
        "#en dB\n",
        "plt.plot(vf,(20*np.log10(Xw_+1e-10)).T) # se suma 1e-10 para evitar discontinuidad del log\n",
        "plt.xlabel('f[Hz]')\n",
        "plt.ylabel('|X(f)| dB')\n",
        "plt.show()"
      ],
      "metadata": {
        "id": "DR4Tw83c6b-1"
      },
      "execution_count": null,
      "outputs": []
    },
    {
      "cell_type": "markdown",
      "source": [
        "**Nota**: Generalmente el espectro se presenta en [decibeles [dB]](https://es.wikipedia.org/wiki/Decibelio)"
      ],
      "metadata": {
        "id": "AXaYxHDVQj1L"
      }
    },
    {
      "cell_type": "markdown",
      "source": [
        "## Visualización de los datos en 2D"
      ],
      "metadata": {
        "id": "zgPMJDn8iQiQ"
      }
    },
    {
      "cell_type": "code",
      "source": [
        "from umap import UMAP\n",
        "#visualización de datos\n",
        "n_neighbors = int(2*np.sqrt(Xw_.shape[0]))\n",
        "sca_ = MinMaxScaler()\n",
        "\n",
        "red_ = UMAP(n_components=2,n_neighbors=n_neighbors)\n",
        "X_2D = sca_.fit_transform(red_.fit_transform(Xw_))"
      ],
      "metadata": {
        "id": "UZGVCWRk1eAz"
      },
      "execution_count": null,
      "outputs": []
    },
    {
      "cell_type": "code",
      "source": [
        "#graficar separabilidad 2D\n",
        "plt.scatter(X_2D[:,0],X_2D[:,1],c=label)\n",
        "plt.colorbar()\n",
        "plt.show()\n",
        "\n",
        "color_ = [\"b\",\"y\"]\n",
        "#nombre cancion\n",
        "plt.scatter(X_2D[:,0],X_2D[:,1],c=label,s=1)\n",
        "for i, tex in enumerate(name_c):\n",
        "    #print(f\"{i} {tex}\")\n",
        "    plt.text(X_2D[i,0]*1.025,X_2D[i,1]*1.025, tex[:-2]+\"_\"+str(i), fontsize=6,color=color_[int(label[i]-1)])\n",
        "\n",
        "plt.xlim([-0.1,1.1])\n",
        "plt.ylim([-0.1,1.1])\n",
        "plt.show()"
      ],
      "metadata": {
        "id": "A2Tmfe-57ZEG"
      },
      "execution_count": null,
      "outputs": []
    },
    {
      "cell_type": "code",
      "source": [
        "#reproducir audio\n",
        "i =43\n",
        "Audio(x_t[i].T,rate=fs)"
      ],
      "metadata": {
        "id": "fubfCcH5CHzN"
      },
      "execution_count": null,
      "outputs": []
    },
    {
      "cell_type": "markdown",
      "source": [
        "# Predicción del género musical sobre espectro de Fourier"
      ],
      "metadata": {
        "id": "7f1dbQS2i_az"
      }
    },
    {
      "cell_type": "code",
      "source": [
        "from sklearn.model_selection import cross_val_score\n",
        "from sklearn.ensemble import RandomForestClassifier\n",
        "from sklearn.neighbors import KNeighborsClassifier\n",
        "\n",
        "# Crear una instancia del clasificador RandomForest\n",
        "model = KNeighborsClassifier(n_neighbors=5)\n",
        "\n",
        "# Realizar la validación cruzada\n",
        "# Xw_ son tus características y label son tus etiquetas\n",
        "# cv define el número folds para la validación cruzada\n",
        "scores = cross_val_score(model, Xw_, label.ravel(), cv=5,scoring='accuracy')\n",
        "\n",
        "# Imprimir los resultados de la validación cruzada\n",
        "print(\"Acierto para cada Fold:\", scores)\n",
        "print(\"Acierto promedio:\", scores.mean())\n",
        "print(\"Desviación estándar del Acierto:\", scores.std())\n",
        "\n",
        "#entrenar modelo para predecir nuevas canciones\n",
        "model.fit(Xw_, label.ravel())"
      ],
      "metadata": {
        "id": "XgvontVai8Qk"
      },
      "execution_count": null,
      "outputs": []
    },
    {
      "cell_type": "code",
      "source": [
        "import joblib\n",
        "#guardar modelo\n",
        "try:\n",
        "  os.mkdir('modelo')\n",
        "except:\n",
        "  print(\"Carpeta modelo ya existe\")\n",
        "\n",
        "filename_ = 'modelo/phonk_vs_clasica'\n",
        "model_ ={'Xw_':Xw_, 'label' : label, 'name_c' : name_c, 'vf':vf,'fs':fs, 'modelo':model,'type':X['type'].unique()}\n",
        "joblib.dump(model_,filename_+\".pkl\")\n"
      ],
      "metadata": {
        "id": "JFDhqdxH79cI"
      },
      "execution_count": null,
      "outputs": []
    },
    {
      "cell_type": "code",
      "source": [
        "#descargar modelo\n",
        "#guardar resultados\n",
        "from google.colab import files\n",
        "from datetime import date, datetime\n",
        "import shutil\n",
        "#guardar resultados\n",
        "namefile = str(datetime.now().strftime(\"%Y_%m_%d_%H_%M_%d\"))+'modelo'\n",
        "shutil.make_archive(namefile, 'zip', 'modelo')\n",
        "files.download(namefile+'.zip')\n",
        "\n",
        "#el archivo .zip puede cargarse en drive y utilizarse en otro cuaderno para detectar género musical de nuevos segmentos"
      ],
      "metadata": {
        "id": "7zWJ8LNQBjNk"
      },
      "execution_count": null,
      "outputs": []
    },
    {
      "cell_type": "markdown",
      "source": [
        "# Para una nueva canción"
      ],
      "metadata": {
        "id": "Wh19I5HGlwyt"
      }
    },
    {
      "cell_type": "code",
      "source": [
        "#cargar modelo\n",
        "my_model_loaded = joblib.load(filename_+\".pkl\")\n",
        "my_model_loaded.keys()"
      ],
      "metadata": {
        "id": "LRJ7txqCA1bI"
      },
      "execution_count": null,
      "outputs": []
    },
    {
      "cell_type": "code",
      "source": [
        "#evaluar para un segmento en fft normalizado\n",
        "\n",
        "pred_ = my_model_loaded['modelo'].predict(Xw_[0].reshape(1,-1))[0]\n",
        "print('Etiqueta estimada: ',my_model_loaded['type'][int(pred_-1)])\n",
        "print('Etiqueta orignal: ',my_model_loaded['type'][int(my_model_loaded['label'][0][0])-1])"
      ],
      "metadata": {
        "id": "k5ykNmZem4ch"
      },
      "execution_count": null,
      "outputs": []
    },
    {
      "cell_type": "code",
      "source": [
        "# %% [markdown]\n",
        "# #Detección de género para un nuevo registro musical\n",
        "## %%\n",
        "import soundfile as sf\n",
        "from scipy.signal import resample_poly\n",
        "import numpy as np\n",
        "from sklearn.preprocessing import MinMaxScaler\n",
        "\n",
        "# --- Paso 1: Simular o cargar un nuevo audio de 5 segundos ---\n",
        "# Opción 1: Simular un audio de 5 segundos (para prueba)\n",
        "# Aquí creamos un audio de prueba con ruido aleatorio.\n",
        "# En un caso real, cargarías un archivo .wav o .mp3\n",
        "fs = my_model_loaded['fs'] # Usar la frecuencia de muestreo del modelo\n",
        "ts = 5 # Duración del segmento en segundos\n",
        "new_audio_samples = int(ts * fs)\n",
        "# Simular audio estéreo de 5 segundos con ruido aleatorio\n",
        "new_audio_data = np.random.rand(new_audio_samples, 2) * 0.1\n",
        "\n",
        "# Opción 2: Cargar un archivo de audio real (descomentar y modificar la ruta)\n",
        "# try:\n",
        "#     # Reemplaza 'ruta/a/tu/nuevo_audio.wav' con la ruta real de tu archivo de audio\n",
        "#     new_audio_data, fs_new = sf.read('ruta/a/tu/nuevo_audio.wav')\n",
        "#\n",
        "#     # Asegurarse de que el audio tiene 2 canales (estéreo)\n",
        "#     if new_audio_data.ndim != 2 or new_audio_data.shape[1] != 2:\n",
        "#         print(\"Advertencia: El nuevo archivo de audio no tiene 2 canales. Intentando convertir a estéreo (puede no funcionar para todos los casos).\")\n",
        "#         # Intenta expandir a 2 canales si es mono\n",
        "#         if new_audio_data.ndim == 1:\n",
        "#             new_audio_data = np.column_stack((new_audio_data, new_audio_data))\n",
        "#         else:\n",
        "#              raise ValueError(\"El archivo de audio tiene un formato de canal inesperado.\")\n",
        "#\n",
        "#     # Asegurarse de que la duración sea exactamente 5 segundos o ajustarla\n",
        "#     target_samples = int(ts * fs)\n",
        "#     if new_audio_data.shape[0] != target_samples:\n",
        "#         print(f\"Advertencia: El nuevo audio no tiene exactamente {ts} segundos ({target_samples} muestras a {fs} Hz). Ajustando...\")\n",
        "#         temp_audio = np.zeros((target_samples, 2))\n",
        "#         copy_samples = min(new_audio_data.shape[0], target_samples)\n",
        "#         temp_audio[:copy_samples, :] = new_audio_data[:copy_samples, :]\n",
        "#         new_audio_data = temp_audio\n",
        "#\n",
        "#     # Remuestrear si la frecuencia de muestreo es diferente\n",
        "#     if fs_new != fs:\n",
        "#         print(f\"Remuestreando el nuevo audio de {fs_new} Hz a {fs} Hz.\")\n",
        "#         gcd = np.gcd(fs, fs_new)\n",
        "#         up = fs // gcd\n",
        "#         down = fs_new // gcd\n",
        "#         new_audio_data = resample_poly(new_audio_data, up=up, down=down)\n",
        "#         # Después del remuestreo, asegurarse de que el número de muestras sea correcto\n",
        "#         if new_audio_data.shape[0] != target_samples:\n",
        "#              print(f\"Corrección post-remuestreo: ajustando número de muestras de {new_audio_data.shape[0]} a {target_samples}.\")\n",
        "#              temp_audio = np.zeros((target_samples, 2))\n",
        "#              copy_samples = min(new_audio_data.shape[0], target_samples)\n",
        "#              temp_audio[:copy_samples, :] = new_audio_data[:copy_samples, :]\n",
        "#              new_audio_data = temp_audio\n",
        "#\n",
        "# except FileNotFoundError:\n",
        "#     print(\"Error: El archivo de audio no se encontró. Usando datos simulados para la demostración.\")\n",
        "#     # Si el archivo no se encuentra, vuelve a la opción simulada\n",
        "#     fs = my_model_loaded['fs']\n",
        "#     ts = 5\n",
        "#     new_audio_samples = int(ts * fs)\n",
        "#     new_audio_data = np.random.rand(new_audio_samples, 2) * 0.1\n",
        "# except Exception as e:\n",
        "#     print(f\"Error al cargar o procesar el nuevo archivo de audio: {e}. Usando datos simulados para la demostración.\")\n",
        "#     # Si hay otro error, vuelve a la opción simulada\n",
        "#     fs = my_model_loaded['fs']\n",
        "#     ts = 5\n",
        "#     new_audio_samples = int(ts * fs)\n",
        "#     new_audio_data = np.random.rand(new_audio_samples, 2) * 0.1\n",
        "\n",
        "# --- Paso 2: Preprocesar el nuevo audio ---\n",
        "\n",
        "# Calcular la transformada de Fourier de magnitud\n",
        "# El .mean(axis=-1) promedia los canales estéreo\n",
        "# Note: rfft returns frequencies up to fs/2. The number of bins is N/2 + 1\n",
        "# For a 5-second segment at 48000 Hz, N = 5 * 48000 = 240000\n",
        "# Number of frequency bins = 240000 / 2 + 1 = 120001\n",
        "new_Xw = np.fft.rfft(new_audio_data, axis=0).mean(axis=-1)\n",
        "new_Xw_magnitude = abs(new_Xw)\n",
        "\n",
        "# Normalizar el espectro de Fourier usando el escalador ajustado del entrenamiento\n",
        "# Necesitamos que el escalador esté disponible. Si lo cargaste con el modelo, úsalo.\n",
        "# Si no, deberías haberlo guardado y cargado también, o reajustarlo (aunque reajustar no es lo ideal\n",
        "# ya que la normalización debe ser consistente con los datos de entrenamiento).\n",
        "# Asumiremos que el escalador se puede re-crear y ajustar sobre los datos de entrenamiento\n",
        "# si no fue guardado explícitamente en el modelo. Sin embargo, la forma correcta sería\n",
        "# guardar el objeto `sca` (MinMaxScaler) durante el entrenamiento y cargarlo aquí.\n",
        "\n",
        "# Para este ejemplo, re-ajustaremos un nuevo escalador en los datos de entrenamiento\n",
        "# cargados del modelo. En un escenario de producción, guardar y cargar el escalador es mejor.\n",
        "sca_loaded = MinMaxScaler()\n",
        "# CORRECT FIT: Fit the scaler on the training data (Xw_) where rows are samples\n",
        "# and columns are features (frequency bins).\n",
        "# FITTING shape is (Ns, 120001)\n",
        "sca_loaded.fit(my_model_loaded['Xw_']) # Ajustar el escalador en los datos de entrenamiento\n",
        "\n",
        "# Normalizar el nuevo espectro\n",
        "# El escalador espera una entrada 2D (n_muestras, n_características).\n",
        "# Aquí tenemos solo 1 muestra (el nuevo audio), así que lo reshapeamos.\n",
        "# The input to transform should have the shape (n_samples, n_features)\n",
        "# The new_Xw_magnitude has shape (120001,). Reshaping to (1, 120001)\n",
        "new_Xw_normalized = sca_loaded.transform(new_Xw_magnitude.reshape(1, -1))\n",
        "\n",
        "# --- Paso 3: Realizar la predicción con el modelo KNN cargado ---\n",
        "\n",
        "# Usar el modelo cargado para predecir\n",
        "predicted_label_num = my_model_loaded['modelo'].predict(new_Xw_normalized)[0]\n",
        "\n",
        "# Obtener el nombre del género a partir del número predicho\n",
        "# Recordar que las etiquetas en label son 1, 2, etc., y type_c tiene los nombres\n",
        "predicted_genre = my_model_loaded['type'][int(predicted_label_num) - 1]\n",
        "\n",
        "# Imprimir el resultado\n",
        "print(f\"\\nEl género musical predicho para el nuevo registro es: {predicted_genre}\")\n",
        "\n",
        "# Opcional: Reproducir el nuevo audio (si usaste la opción de cargar un archivo)\n",
        "# from IPython.display import Audio\n",
        "# Audio(new_audio_data.T, rate=fs)"
      ],
      "metadata": {
        "id": "r4L1HNsJsZnk"
      },
      "execution_count": null,
      "outputs": []
    }
  ]
}