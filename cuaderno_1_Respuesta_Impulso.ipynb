{
  "nbformat": 4,
  "nbformat_minor": 0,
  "metadata": {
    "colab": {
      "provenance": [],
      "include_colab_link": true
    },
    "kernelspec": {
      "display_name": "Python 3",
      "language": "python",
      "name": "python3"
    },
    "language_info": {
      "codemirror_mode": {
        "name": "ipython",
        "version": 3
      },
      "file_extension": ".py",
      "mimetype": "text/x-python",
      "name": "python",
      "nbconvert_exporter": "python",
      "pygments_lexer": "ipython3",
      "version": "3.7.1"
    }
  },
  "cells": [
    {
      "cell_type": "markdown",
      "metadata": {
        "id": "view-in-github",
        "colab_type": "text"
      },
      "source": [
        "<a href=\"https://colab.research.google.com/github/sofial47/senalesysistemas/blob/main/cuaderno_1_Respuesta_Impulso.ipynb\" target=\"_parent\"><img src=\"https://colab.research.google.com/assets/colab-badge.svg\" alt=\"Open In Colab\"/></a>"
      ]
    },
    {
      "cell_type": "markdown",
      "metadata": {
        "id": "DWA02Xu-Agmz",
        "nbsphinx": "hidden"
      },
      "source": [
        "# Caracterización de sistemas lineales e invariantes en el tiempo"
      ]
    },
    {
      "cell_type": "markdown",
      "metadata": {
        "id": "8EHzTYWPAgm6"
      },
      "source": [
        "## Respuesta al Impulso\n",
        "\n",
        "- La respuesta $y(t)$ de un sistema lineal e invariante en el tiempo (SLIT) $\\mathsf{H}\\{\\cdot\\}$ respecto a una señal de entrada arbitraria $x(t),$ se puede obtner con base a la integral de convolución utilizando la [respuesta al impulso](https://en.wikipedia.org/wiki/Linear_time-invariant_system).\n",
        "\n",
        "- La señal de entrada se puede representar como una integral cuando se aplica la propiedad de selectividad del impulso de Dirac:\n",
        "\n",
        "\\begin{equation}\n",
        "x(t) = \\int_{-\\infty}^{\\infty} x(\\tau) \\cdot \\delta(t-\\tau) \\; d \\tau\n",
        "\\end{equation}\n",
        "\n",
        "- Empleando la relación anterior para la señal de entrada $x(t)$ sobre la señal de salida $y(t)=\\mathsf{H}\\{x(t)\\}$ del sistema, se tiene que:\n",
        "\n",
        "\\begin{equation}\n",
        "y(t) = \\mathsf{H} \\left\\{ \\int_{-\\infty}^{\\infty} x(\\tau) \\cdot \\delta(t-\\tau) \\; d \\tau \\right\\}\n",
        "\\end{equation}\n",
        "\n",
        "donde $\\mathsf{H}\\{\\cdot\\}$ denota el operador de respuesta del sistema. El operador de integración y respuesta del sistema se pueden intercambiar bajo el supuesto de que el sistema es lineal:\n",
        "\n",
        "\\begin{equation}\n",
        "y(t) = \\int_{-\\infty}^{\\infty}  x(\\tau) \\cdot \\mathsf{H} \\left\\{ \\delta(t-\\tau) \\right\\} \\; d \\tau\n",
        "\\end{equation}\n",
        "\n",
        "donde $\\mathsf{H}\\{\\cdot\\}$ solo se aplica al impulso de Dirac, ya que $x(\\tau)$ puede considerarse como un factor constante con respecto al tiempo $t$. Se hace evidente que la respuesta de un sistema a un impulso de Dirac juega un papel importante en el cálculo de la señal de salida para señales de entrada arbitrarias.\n",
        "\n",
        "La respuesta de un sistema ante un impulso de dirac como entrada, se denomina [*respuesta al impulso*](https://en.wikipedia.org/wiki/Impulse_response). Se define como\n",
        "\n",
        "\\begin{equation}\n",
        "h(t) = \\mathsf{H} \\left\\{ \\delta(t) \\right\\}\n",
        "\\end{equation}\n",
        "\n",
        "Si el sistema es invariante en el tiempo, la respuesta a un impulso Dirac desplazado es $\\mathsf{H}\\left\\{\\delta(t-\\tau)\\right\\} = h(t-\\tau)$. Por lo tanto, para un SLIT se tiene que:\n",
        "\n",
        "\\begin{equation}\n",
        "y(t) = \\int_{-\\infty}^{\\infty}  x(\\tau) \\cdot h(t-\\tau) \\; d \\tau\n",
        "\\end{equation}\n",
        "\n",
        "La anterior operación se relaciona directamente con el operador [*convolución*](https://en.wikipedia.org/wiki/Convolution), definido $y(t)=x(t)*h(t)$.\n",
        "\n",
        "Se puede concluir que las propiedades de un SLIT están completamente caracterizadas por su respuesta al impulso.\n",
        "\n",
        "La respuesta $y(t)$ de un sistema a una señal de entrada arbitraria $x(t)$ está dada por la convolución de la señal de entrada $x(t)$ con su respuesta de impulso $h(t)$."
      ]
    },
    {
      "cell_type": "markdown",
      "metadata": {
        "id": "E-epKcIaAgm8"
      },
      "source": [
        "**Ejemplo**\n",
        "\n",
        "El siguiente ejemplo considera un SLIT cuya relación entre la entrada $x(t)$ y la salida $y(t)$ está dada por una ecuación diferencial ordinaria (EDO) con coeficientes constantes\n",
        "\n",
        "\\begin{equation}\n",
        "\\frac{d}{dt} y(t)+ y(t) = x(t)\n",
        "\\end{equation}\n",
        "\n",
        "La respuesta del sistema para la señal de entrada $x(t)=e^{-2t}\\cdot\\epsilon(t)$ se puede calcular mediante:\n",
        "\n",
        "1. Se resuelve la [EDO](https://en.wikipedia.org/wiki/Ordinary_differential_equation).\n",
        "2. Se calcula la respuesta al impulso $h(t)$ y se realiza la convolución con la entrada.\n",
        "\n",
        "Generalmente se asumen condiciones iniciales $y(t)\\big\\vert_{t=0-}=0$ y $\\frac{d}{dt}y(t)\\big\\vert_{t=0-}=0 $.\n",
        "\n",
        "Primero, se define la EDO en `SymPy`"
      ]
    },
    {
      "cell_type": "code",
      "metadata": {
        "colab": {
          "base_uri": "https://localhost:8080/",
          "height": 52
        },
        "id": "4BpQ4YsZAgm_",
        "outputId": "5bdaa722-51c2-4691-81bc-1564fe15c36f"
      },
      "source": [
        "%matplotlib inline\n",
        "import sympy as sym\n",
        "sym.init_printing()#epresiones matematicas mas legibles\n",
        "\n",
        "t = sym.symbols('t', real=True)\n",
        "x = sym.Function('x')(t)\n",
        "y = sym.Function('y')(t)\n",
        "\n",
        "ode = sym.Eq(y + y.diff(t) , x)#definir ecuacion en simpy con operador diferencial diff; toma lado derecho e izquierdo de la ecuacion, y.diff(d/dt y(t)); (es lo que se muestra abajo)\n",
        "ode"
      ],
      "execution_count": null,
      "outputs": [
        {
          "output_type": "execute_result",
          "data": {
            "text/plain": [
              "       d              \n",
              "y(t) + ──(y(t)) = x(t)\n",
              "       dt             "
            ],
            "text/latex": "$\\displaystyle y{\\left(t \\right)} + \\frac{d}{d t} y{\\left(t \\right)} = x{\\left(t \\right)}$"
          },
          "metadata": {},
          "execution_count": 2
        }
      ]
    },
    {
      "cell_type": "markdown",
      "metadata": {
        "id": "TGrUvUlIAgnP"
      },
      "source": [
        "La EDO se resuelve para la señal de entrada dada con el fin de calcular la señal de salida. La constante de integración se calcula de forma que la solución cumpla las condiciones iniciales."
      ]
    },
    {
      "cell_type": "code",
      "metadata": {
        "colab": {
          "base_uri": "https://localhost:8080/",
          "height": 39
        },
        "id": "Qm0ztn5BAgnS",
        "outputId": "7157b427-eab5-4e63-eaf6-6f3b447a8088"
      },
      "source": [
        "solution = sym.dsolve(ode.subs(x, sym.exp(-2*t)*sym.Heaviside(t)))#resolver edo ante entrada x(t), sym.dsolve resuelve ecuaciones diferenciales; sustituye x por e^-2t*E; queda al final y(t)+d/dty(t)=e^-2t*E\n",
        "#se definin condiciones iniciales 0\n",
        "integration_constants = sym.solve( (solution.rhs.limit(t, 0, '-'), solution.rhs.diff(t).limit(t, 0, '-')), 'C1' )#objetivo encontrar el valor constante C1# solution.rhs.limit(t, 0, '-'): limite del lado derecho de la solución a medida que t se acerca a 0 desde valores negativos (0-). Representa el valor de la solución justo antes de t=0; solution.rhs.diff(t): calcula la derivada del lado derecho de la solución con respecto a t; .limit(t, 0, '-'):calcula el límite de esta derivada a medida que t se acerca a 0 desde valores negativos. se calcula el limite de la funcion y el limite de su derivada y se agrupan en una tupla (parentesis morado)\n",
        "#sym.solve(expresion, variable), SymPy asume que quiero encontrar el valor de variable tal que expresion == 0. sym.solve asume que quiero encontrar el valor de C1 que hace que cada una de esas expresiones sea igual a cero simultáneamente= solution.rhs.limit(t, 0, '-') == 0 y solution.rhs.diff(t).limit(t, 0, '-') == 0\n",
        "y1 = solution.subs(integration_constants)\n",
        "y1"
      ],
      "execution_count": null,
      "outputs": [
        {
          "output_type": "execute_result",
          "data": {
            "text/plain": [
              "       ⎛        -t     ⎞  -t\n",
              "y(t) = ⎝θ(t) - ℯ  ⋅θ(t)⎠⋅ℯ  "
            ],
            "text/latex": "$\\displaystyle y{\\left(t \\right)} = \\left(\\theta\\left(t\\right) - e^{- t} \\theta\\left(t\\right)\\right) e^{- t}$"
          },
          "metadata": {},
          "execution_count": 3
        }
      ]
    },
    {
      "cell_type": "markdown",
      "metadata": {
        "id": "GCQz-z6jAgnb"
      },
      "source": [
        "Se grafica la solución de la EDO"
      ]
    },
    {
      "cell_type": "code",
      "metadata": {
        "colab": {
          "base_uri": "https://localhost:8080/",
          "height": 484
        },
        "id": "fLKlj4_HAgnd",
        "outputId": "00f066b0-0aa0-474e-f8c4-fb8e34b4c7ce"
      },
      "source": [
        "sym.plot(y1.rhs, (t,-1,10), ylabel=r'$y(t)$');#.rhs se utiliza para obtener el lado derecho de la ecuación(Right-Hand Side) ."
      ],
      "execution_count": null,
      "outputs": [
        {
          "output_type": "display_data",
          "data": {
            "text/plain": [
              "<Figure size 640x480 with 1 Axes>"
            ],
            "image/png": "[encoded data removed]"
          },
          "metadata": {}
        }
      ]
    },
    {
      "cell_type": "markdown",
      "metadata": {
        "id": "Dn-Ye_pWAgnm"
      },
      "source": [
        "La respuesta al impulso $h(t)$ se puede calcular resolviendo la EDO para un impulso de Dirac como señal de entrada, $x(t)=\\delta(t)$."
      ]
    },
    {
      "cell_type": "code",
      "metadata": {
        "colab": {
          "base_uri": "https://localhost:8080/",
          "height": 39
        },
        "id": "eiyUSZjIAgno",
        "outputId": "1e632eaf-e1d6-46e7-c060-e1f6efad917f"
      },
      "source": [
        "h = sym.Function('h')(t)#h depende de t\n",
        "solution2 = sym.dsolve(ode.subs(x, sym.DiracDelta(t)).subs(y, h))#resolver para delta dirac\n",
        "integration_constants = sym.solve( (solution2.rhs.limit(t, 0, '-'), solution2.rhs.diff(t).limit(t, 0, '-')), 'C1' )\n",
        "h = solution2.subs(integration_constants)\n",
        "h"
      ],
      "execution_count": null,
      "outputs": [
        {
          "output_type": "execute_result",
          "data": {
            "text/plain": [
              "        -t     \n",
              "h(t) = ℯ  ⋅θ(t)"
            ],
            "text/latex": "$\\displaystyle h{\\left(t \\right)} = e^{- t} \\theta\\left(t\\right)$"
          },
          "metadata": {},
          "execution_count": 5
        }
      ]
    },
    {
      "cell_type": "markdown",
      "metadata": {
        "id": "ArILc1haAgnz"
      },
      "source": [
        "Se grafica la respuesta al impulso $h(t)$ del SLIT:"
      ]
    },
    {
      "cell_type": "code",
      "metadata": {
        "colab": {
          "base_uri": "https://localhost:8080/",
          "height": 484
        },
        "id": "qyMYEIPyAgn1",
        "outputId": "5b9f58b6-cabb-4a00-d364-bab3be2a985e"
      },
      "source": [
        "sym.plot(h.rhs, (t,-1,10), ylabel=r'$h(t)$');"
      ],
      "execution_count": null,
      "outputs": [
        {
          "output_type": "display_data",
          "data": {
            "text/plain": [
              "<Figure size 640x480 with 1 Axes>"
            ],
            "image/png": "[encoded data removed]"
          },
          "metadata": {}
        }
      ]
    },
    {
      "cell_type": "markdown",
      "metadata": {
        "id": "Bxb3Ld_qAgn-"
      },
      "source": [
        "Como alternativa a la solución explícita de la EDO, la respuesta del sistema se calcula evaluando la convolución $y(t)=x(t)*h(t)$.\n",
        "\n",
        "**Nota**:Dado que `SymPy` no puede manejar la función Heaviside de manera adecuada en las integrales, la integral de convolución se simplifica primero. Tanto la señal de entrada $x(t)$ como la respuesta de impulso $h(t)$ son señales causales. Por lo tanto, la integral de convolución resulta en\n",
        "\n",
        "\\begin{equation}\n",
        "y(t) = \\int_{0}^{t} x(\\tau) \\cdot h(t - \\tau) \\; d\\tau\n",
        "\\end{equation}\n",
        "\n",
        "Para $t\\geq0$. Observe que $y(t)=0$ para $t<0$."
      ]
    },
    {
      "cell_type": "code",
      "metadata": {
        "colab": {
          "base_uri": "https://localhost:8080/",
          "height": 39
        },
        "id": "Nur3pq9cAgoA",
        "outputId": "3d4fa1ad-0e92-4f56-b43f-058a67bbd615"
      },
      "source": [
        "tau = sym.symbols('tau', real=True)\n",
        "\n",
        "y2 = sym.integrate(sym.exp(-2*tau) * h.rhs.subs(sym.Heaviside(t), 1).subs(t, t-tau), (tau, 0, t))#subs sustituye t por (t-tau); h.rhs.subs(sym.Heaviside(t), 1).subs(t, t-tau) construye el término h(t-tau) para la integral de convolución, realizando una sustitución simplificada de la función Heaviside(t) por 1 (válida para t>=0, se integra con respecto a tau desde o hasta t\n",
        "y2"
      ],
      "execution_count": null,
      "outputs": [
        {
          "output_type": "execute_result",
          "data": {
            "text/plain": [
              " -t    -2⋅t\n",
              "ℯ   - ℯ    "
            ],
            "text/latex": "$\\displaystyle e^{- t} - e^{- 2 t}$"
          },
          "metadata": {},
          "execution_count": 8
        }
      ]
    },
    {
      "cell_type": "markdown",
      "metadata": {
        "id": "7m3M1svAAgoK"
      },
      "source": [
        "Se grafica la señal de salida obtenida mediante el proceso de convolución:"
      ]
    },
    {
      "cell_type": "code",
      "metadata": {
        "colab": {
          "base_uri": "https://localhost:8080/",
          "height": 296
        },
        "id": "HzZsSTRAAgoM",
        "outputId": "cdba6744-06cd-48e2-eb9b-47edecdcd5d5"
      },
      "source": [
        "sym.plot(y2, (t,0,10), ylabel=r'$y(t)$');"
      ],
      "execution_count": null,
      "outputs": [
        {
          "output_type": "display_data",
          "data": {
            "image/png": "[encoded data removed]",
            "text/plain": [
              "<Figure size 432x288 with 1 Axes>"
            ]
          },
          "metadata": {
            "needs_background": "light"
          }
        }
      ]
    },
    {
      "cell_type": "markdown",
      "metadata": {
        "id": "e6YWym8VAgoT"
      },
      "source": [
        "**Ejercicio**\n",
        "\n",
        "* Compare la señal de salida obtenida al resolver la EDO con la obtenida mediante la convolución. Son iguales?\n",
        "* Compruebe la solución $h(t)$ de la EDO cuando $x(t)=\\delta(t)$ de manera manual. Tener en cuenta que $\\frac{d}{dt} \\epsilon(t) = \\delta(t)$.\n",
        "* Comprobar la solución de la integral de convolución de manera manual. Tener en cuenta las funciones Heaviside."
      ]
    },
    {
      "cell_type": "markdown",
      "source": [
        "* Sí son iguales. Esto se alinea con la teoría de los Sistemas Lineales e Invariantes en el Tiempo (SLIT) presentada anteriormente en este cuaderno, donde se establece que la respuesta de un SLIT a cualquier entrada puede obtenerse mediante la convolución de la entrada con la respuesta al impulso del sistema, la cual, a su vez, se puede derivar de la EDO del sistema. Ambos métodos son formas equivalentes de caracterizar y encontrar la respuesta de un SLIT\n",
        "* La EDO dada es: $$ \\frac{d}{dt} y(t) + y(t) = x(t) $$\n",
        "Para encontrar la respuesta al impulso, hacemos $x(t) = \\delta(t)$ y $y(t) = h(t)$: $$ \\frac{d}{dt} h(t) + h(t) = \\delta(t) $$\n",
        "Sabemos que la respuesta al impulso de un sistema causal (como el que se considera aquí, con condiciones iniciales cero para $t<0$) tendrá la forma $h(t) = C e^{-at} \\epsilon(t)$ para $t \\geq 0$. En este caso, mirando la forma de la EDO, podemos suponer que $a=1$, por lo tanto proponemos una solución de la forma $h(t) = C e^{-t} \\epsilon(t)$.\n",
        "\n",
        "Ahora se deriva $h(t)$ usando la regla del producto y la propiedad de que $\\frac{d}{dt}\\epsilon(t) = \\delta(t)$: $$ \\frac{d}{dt} h(t) = \\frac{d}{dt} (C e^{-t} \\epsilon(t)) $$ $$ \\frac{d}{dt} h(t) = C \\left( \\frac{d}{dt}(e^{-t}) \\epsilon(t) + e^{-t} \\frac{d}{dt}(\\epsilon(t)) \\right) $$ $$ \\frac{d}{dt} h(t) = C \\left( -e^{-t} \\epsilon(t) + e^{-t} \\delta(t) \\right) $$\n",
        "Sustituimos esta derivada y la forma propuesta de $h(t)$ de vuelta en la EDO: $$ C \\left( -e^{-t} \\epsilon(t) + e^{-t} \\delta(t) \\right) + C e^{-t} \\epsilon(t) = \\delta(t) $$\n",
        "Simplificando la expresión: $$ -C e^{-t} \\epsilon(t) + C e^{-t} \\delta(t) + C e^{-t} \\epsilon(t) = \\delta(t) $$ $$ C e^{-t} \\delta(t) = \\delta(t) $$\n",
        "Se sabe que por la propiedad de muestreo del impulso de Dirac que $f(t) \\delta(t) = f(0) \\delta(t)$. En este caso, $f(t) = e^{-t}$, por lo que $e^{-t} \\delta(t) = e^{-0} \\delta(t) = 1 \\cdot \\delta(t) = \\delta(t)$.\n",
        "\n",
        "Sustituyendo esto en la ecuación anterior: $$ C \\delta(t) = \\delta(t) $$\n",
        "Para que esta igualdad se cumpla, el valor de la constante $C$ debe ser 1.\n",
        "\n",
        "Por lo tanto, la solución manual para la respuesta al impulso es: $$ h(t) = 1 \\cdot e^{-t} \\epsilon(t) = e^{-t} \\epsilon(t) $$\n",
        "\n",
        "* Solución de la integral de convolución $y(t) = x(t) * h(t)$ para el ejemplo dado, teniendo en cuenta las funciones Heaviside.\n",
        "\n",
        "La señal de entrada es $x(t) = e^{-2t} \\epsilon(t)$ y la respuesta al impulso es $h(t) = e^{-t} \\epsilon(t)$.\n",
        "\n",
        "La integral de convolución general es: $$ y(t) = \\int_{-\\infty}^{\\infty} x(\\tau) h(t-\\tau) d\\tau $$\n",
        "Sustituimos las expresiones de $x(\\tau)$ y $h(t-\\tau)$: $$ y(t) = \\int_{-\\infty}^{\\infty} \\left( e^{-2\\tau} \\epsilon(\\tau) \\right) \\left( e^{-(t-\\tau)} \\epsilon(t-\\tau) \\right) d\\tau $$\n",
        "Ahora, vamos a considerar el efecto de las funciones Heaviside $\\epsilon(\\tau)$ y $\\epsilon(t-\\tau)$:\n",
        "\n",
        "$\\epsilon(\\tau)$: Esta función es 1 cuando $\\tau \\geq 0$ y 0 cuando $\\tau < 0$. Esto significa que la integral solo tendrá un valor no nulo cuando $\\tau \\geq 0$. El límite inferior de la integral se convierte en 0.\n",
        "\n",
        "$\\epsilon(t-\\tau)$: Esta función es 1 cuando $t-\\tau \\geq 0$, lo que implica $\\tau \\leq t$. Es 0 cuando $t-\\tau < 0$, lo que implica $\\tau > t$. Significa que la integral solo tendrá un valor no nulo cuando $\\tau \\leq t$.\n",
        "\n",
        "Combinando ambas condiciones, la integral solo tiene contribución cuando $0 \\leq \\tau \\leq t$. La integral de convolución se simplifica a:\n",
        "\n",
        "Para $t \\geq 0$: $$ y(t) = \\int_{0}^{t} e^{-2\\tau} e^{-(t-\\tau)} d\\tau $$\n",
        "Para $t < 0$, la región de integración ($0 \\leq \\tau \\leq t$) no existe, por lo que $y(t) = 0$.\n",
        "\n",
        "Empezamos a resolver la integral para $t \\geq 0$: $$ y(t) = \\int_{0}^{t} e^{-2\\tau} e^{-t} e^{\\tau} d\\tau $$ Podemos sacar $e^{-t}$ fuera de la integral, ya que no depende de $\\tau$: $$ y(t) = e^{-t} \\int_{0}^{t} e^{-2\\tau} e^{\\tau} d\\tau $$ $$ y(t) = e^{-t} \\int_{0}^{t} e^{-2\\tau + \\tau} d\\tau $$ $$ y(t) = e^{-t} \\int_{0}^{t} e^{-\\tau} d\\tau $$\n",
        "Ahora integramos $e^{-\\tau}$con respecto a $\\tau$: $$ y(t) = e^{-t} \\left[ -e^{-\\tau} \\right]_{0}^{t} $$\n",
        "Evaluamos en los límites de integración: $$ y(t) = e^{-t} \\left( (-e^{-t}) - (-e^{-0}) \\right) $$ $$ y(t) = e^{-t} \\left( -e^{-t} + e^{0} \\right) $$ $$ y(t) = e^{-t} \\left( -e^{-t} + 1 \\right) $$\n",
        "Expandimos la expresión: $$ y(t) = -e^{-t} e^{-t} + e^{-t} \\cdot 1 $$ $$ y(t) = -e^{-2t} + e^{-t} $$ $$ y(t) = e^{-t} - e^{-2t} $$\n",
        "Recordando que esta solución es válida solo para $t \\geq 0$, y que $y(t)=0$ para $t < 0$, podemos expresar la solución completa utilizando la función Heaviside:\n",
        "$$ y(t) = (e^{-t} - e^{-2t}) \\epsilon(t) $$\n",
        "Esta es la misma solución obtenida en el cuaderno al resolver la EDO.\n",
        "\n"
      ],
      "metadata": {
        "id": "NWN809U6Wbog"
      }
    },
    {
      "cell_type": "markdown",
      "metadata": {
        "id": "ZavLa5BxAgoV",
        "nbsphinx": "hidden"
      },
      "source": [
        "**Copyright**\n",
        "\n",
        "The notebooks are provided as [Open Educational Resource](https://de.wikipedia.org/wiki/Open_Educational_Resources). Feel free to use the notebooks for your own educational purposes. The text is licensed under [Creative Commons Attribution 4.0](https://creativecommons.org/licenses/by/4.0/), the code of the IPython examples under the [MIT license](https://opensource.org/licenses/MIT). Please attribute the work as follows: *Lecture Notes on Signals and Systems* by Sascha Spors."
      ]
    }
  ]
}