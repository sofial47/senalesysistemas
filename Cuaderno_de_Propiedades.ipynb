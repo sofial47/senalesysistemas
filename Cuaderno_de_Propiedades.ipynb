{
  "cells": [
    {
      "cell_type": "markdown",
      "metadata": {
        "id": "view-in-github",
        "colab_type": "text"
      },
      "source": [
        "<a href=\"https://colab.research.google.com/github/sofial47/senalesysistemas/blob/main/Cuaderno_de_Propiedades.ipynb\" target=\"_parent\"><img src=\"https://colab.research.google.com/assets/colab-badge.svg\" alt=\"Open In Colab\"/></a>"
      ]
    },
    {
      "cell_type": "markdown",
      "metadata": {
        "id": "q9ciXsNS0maR",
        "nbsphinx": "hidden"
      },
      "source": [
        "# Transformada de Laplace\n",
        "\n",
        "*This Jupyter notebook is part of a [collection of notebooks](../index.ipynb) in the bachelors module Signals and Systems, Communications Engineering, Universität Rostock. Please direct questions and suggestions to [Sascha.Spors@uni-rostock.de](mailto:Sascha.Spors@uni-rostock.de).*"
      ]
    },
    {
      "cell_type": "markdown",
      "metadata": {
        "id": "Uw9f3YNk0maW"
      },
      "source": [
        "## Propiedades\n",
        "\n",
        "La transformada de Laplace tiene una serie de propiedades específicas que pueden obtenerse  directamente a partir de su definición. Las más importantes en el contexto de señales y sistemas se revisan a continuación."
      ]
    },
    {
      "cell_type": "markdown",
      "metadata": {
        "id": "mek1Dzlc0maZ"
      },
      "source": [
        "### Linealidad\n",
        "\n",
        "La transformada de Laplace es una transformación lineal, como se puede concluir directamente de su definición. Para dos señales $x_1(t)$ y $x_2(t)$ con transformadas de Laplace $X_1(s) = \\mathfrak{L} \\{ x_1(t) \\}$ y $X_2(s) = \\mathfrak{L} \\{ x_2(t) \\}$, se tiene que:\n",
        "\n",
        "\\begin{equation}\n",
        "\\mathfrak{L} \\{ A \\cdot x_1(t) + B \\cdot x_2(t) \\} = A \\cdot X_1(s) + B \\cdot X_2(s)\n",
        "\\end{equation}\n",
        "con $A, B \\in \\mathbb{C}$.\n",
        "\n",
        "La región de convergencia (ROC) de la superposición $A x_1(t) + B x_2(t)$ incluye la intersección de las ROCs de $x_1(t)$ y $x_2(t)$:\n",
        "\n",
        "\\begin{equation}\n",
        "\\text{ROC} \\{ A \\cdot x_1(t) + B \\cdot x_2(t) \\} \\supseteq \\text{ROC} \\{ x_1(t) \\} \\cap \\text{ROC} \\{ x_2(t) \\}\n",
        "\\end{equation}\n",
        "\n",
        "La transformada de Laplace de una superposición ponderada de señales es igual a la superposición ponderada de las transformadas de Laplace individuales. Esta propiedad es útil para derivar la transformada de Laplace de señales que pueden expresarse como superposición de otras señales cuyas transformadas de Laplace son conocidas o pueden calcularse más fácilmente."
      ]
    },
    {
      "cell_type": "markdown",
      "metadata": {
        "id": "s7dMDmLC0mac"
      },
      "source": [
        "#### Transformada de señales seno y coseno\n",
        "\n",
        "La transformada de Laplace de una señal coseno causal $\\epsilon(t) \\cdot \\cos(\\omega_0 t)$ y una señal seno causal $\\epsilon(t) \\cdot \\sin(\\omega_0 t)$ se deriva de la expresión de un coseno/seno como una suma de señales armónicas exponenciales, utilizando la [fórmula de Euler](https://en.wikipedia.org/wiki/Euler's_formula):\n",
        "\n",
        "\\begin{align}\n",
        "\\cos(\\omega_0 t) &= \\frac{1}{2} \\left( e^{j \\omega_0 t} + e^{-j \\omega_0 t} \\right) \\\\\n",
        "\\sin(\\omega_0 t) &= \\frac{1}{2j} \\left( e^{j \\omega_0 t} - e^{-j \\omega_0 t} \\right)\n",
        "\\end{align}\n",
        "\n",
        "La transformada de Laplace de una [señal exponencial compleja causal](Definicion.ipynb#Transformation-of-the-Causal-Complex-Exponential-Signal) es\n",
        "\n",
        "\\begin{equation}\n",
        "\\mathfrak{L} \\{ \\epsilon(t) \\cdot e^{-s_0 t} \\} = \\frac{1}{s + s_0} \\qquad \\text{for } \\Re \\{ s \\} > \\Re \\{ - s_0 \\}\n",
        "\\end{equation}\n",
        "\n",
        "Usando la linealidad de la transformada de Laplace:\n",
        "\n",
        "\\begin{equation}\n",
        "\\mathfrak{L} \\{ \\epsilon(t) \\cdot \\cos(\\omega_0 t) \\} =\n",
        "\\frac{1}{2} \\left( \\frac{1}{s - j \\omega_0} + \\frac{1}{s + j \\omega_0} \\right) = \\frac{s}{s^2 + \\omega_0^2}\n",
        "\\qquad \\text{; para } \\Re \\{ s \\} > 0\n",
        "\\end{equation}\n",
        "\n",
        "y\n",
        "\n",
        "\\begin{equation}\n",
        "\\mathfrak{L} \\{ \\epsilon(t) \\cdot \\sin(\\omega_0 t) \\} =\n",
        "\\frac{1}{2j} \\left( \\frac{1}{s - j \\omega_0} - \\frac{1}{s + j \\omega_0} \\right) = \\frac{\\omega_0}{s^2 + \\omega_0^2}\n",
        "\\qquad \\text{; para } \\Re \\{ s \\} > 0\n",
        "\\end{equation}"
      ]
    },
    {
      "cell_type": "markdown",
      "metadata": {
        "id": "G_4wYzjR0mag"
      },
      "source": [
        "**Ejemplo - Transformada de una señal coseno**\n",
        "\n",
        "La transformada de Laplace de una señal coseno causal se calcula con `Sympy`"
      ]
    },
    {
      "cell_type": "code",
      "execution_count": 8,
      "metadata": {
        "colab": {
          "base_uri": "https://localhost:8080/",
          "height": 58
        },
        "id": "AYmSbkV30mai",
        "outputId": "bc0cc560-d2e9-4fe5-e626-822d7ed954ef"
      },
      "outputs": [
        {
          "output_type": "execute_result",
          "data": {
            "text/plain": [
              "⎛   ω₀            ⎞\n",
              "⎜────────, 0, True⎟\n",
              "⎜  2    2         ⎟\n",
              "⎝ω₀  + s          ⎠"
            ],
            "text/latex": "$\\displaystyle \\left( \\frac{\\omega_{0}}{\\omega_{0}^{2} + s^{2}}, \\  0, \\  \\text{True}\\right)$"
          },
          "metadata": {},
          "execution_count": 8
        }
      ],
      "source": [
        "%matplotlib inline\n",
        "import sympy as sym\n",
        "sym.init_printing()\n",
        "#se definen las variables simbólicas y se aplica la función de laplace de sympy\n",
        "t, w0 = sym.symbols('t omega0', real=True)\n",
        "s = sym.symbols('s', complex=True)\n",
        "\n",
        "x = sym.sin(w0*t)\n",
        "X, a, cond = sym.laplace_transform(x, t, s)\n",
        "X, a, cond"
      ]
    },
    {
      "cell_type": "markdown",
      "metadata": {
        "id": "nhY4XwTc0maw"
      },
      "source": [
        "**Ejercicio**\n",
        "\n",
        "* Determinar los polos y ceros de la transformada de Laplace $\\mathsf{L} \\{ \\epsilon(t) \\cdot \\sin(\\omega_0 t) \\}$ mediante el cálculo manual y extendiendo el ejemplo anterior. Qué simetría muestran los polos y los ceros en el plano $s$?"
      ]
    },
    {
      "cell_type": "markdown",
      "metadata": {
        "id": "c21fac14"
      },
      "source": [
        "## Explicación del cálculo manual\n",
        "\n",
        "### Subtarea:\n",
        "Explicar cómo encontrar manualmente los polos y ceros de la transformada de Laplace dada a partir de su expresión.\n"
      ]
    },
    {
      "cell_type": "markdown",
      "metadata": {
        "id": "3a0c13b5"
      },
      "source": [
        "**Razonamiento**:\n",
        "Recordar la transformada de Laplace de 𝜖(𝑡)⋅sin(𝜔0𝑡), se identifica el numerador y el denominador, se explica cómo encontrar ceros y polos manualmente estableciendo el numerador y el denominador igual a cero respectivamente, y luego se aplican estos pasos para encontrar los polos y ceros de la transformada dada.\n",
        "\n"
      ]
    },
    {
      "cell_type": "code",
      "source": [
        "# La transformada de Laplace de epsilon(t) * sen(omega0*t) está dada por:\n",
        "# X(s) = omega0 / (s^2 + omega0^2)\n",
        "# Para encontrar los ceros, igualamos el numerador a cero:\n",
        "# omega0 = 0\n",
        "# Esto implica que no hay ceros a menos que omega0 = 0, lo cual haría que la señal original sea cero.\n",
        "# Para una señal no trivial (omega0 ≠ 0), no hay ceros finitos.\n",
        "\n",
        "# Para encontrar los polos, igualamos el denominador a cero:\n",
        "# s^2 + omega0^2 = 0\n",
        "# s^2 = -omega0^2\n",
        "# s = sqrt(-omega0^2)\n",
        "# s = ± j * omega0\n",
        "\n",
        "# Entonces, los polos están en s = j*omega0 y s = -j*omega0.\n",
        "\n",
        "# Explicación manual:\n",
        "print(\"Cálculo manual de polos y ceros:\")\n",
        "print(\"La transformada de Laplace de epsilon(t) * sen(omega0*t) es X(s) = omega0 / (s^2 + omega0^2).\")\n",
        "print(\"Para encontrar los ceros, igualamos el numerador a cero: omega0 = 0. Para una señal no trivial (omega0 ≠ 0), no hay ceros finitos.\")\n",
        "print(\"Para encontrar los polos, igualamos el denominador a cero: s^2 + omega0^2 = 0. Al resolver para s obtenemos s = ± j*omega0.\")\n",
        "print(\"Por lo tanto, los polos están en s = j*omega0 y s = -j*omega0.\")\n"
      ],
      "metadata": {
        "colab": {
          "base_uri": "https://localhost:8080/"
        },
        "id": "HBBj4CPhCnkF",
        "outputId": "8e301da3-7134-458f-8361-8fded2c2ac9c"
      },
      "execution_count": 9,
      "outputs": [
        {
          "output_type": "stream",
          "name": "stdout",
          "text": [
            "Cálculo manual de polos y ceros:\n",
            "La transformada de Laplace de epsilon(t) * sen(omega0*t) es X(s) = omega0 / (s^2 + omega0^2).\n",
            "Para encontrar los ceros, igualamos el numerador a cero: omega0 = 0. Para una señal no trivial (omega0 ≠ 0), no hay ceros finitos.\n",
            "Para encontrar los polos, igualamos el denominador a cero: s^2 + omega0^2 = 0. Al resolver para s obtenemos s = ± j*omega0.\n",
            "Por lo tanto, los polos están en s = j*omega0 y s = -j*omega0.\n"
          ]
        }
      ]
    },
    {
      "cell_type": "markdown",
      "metadata": {
        "id": "1b655da5"
      },
      "source": [
        "## Extender el código de ejemplo\n",
        "\n",
        "### Subtarea:\n",
        "Modificar el código existente para encontrar simbólicamente los polos y ceros usando `sympy`.\n"
      ]
    },
    {
      "cell_type": "markdown",
      "metadata": {
        "id": "445c8f91"
      },
      "source": [
        "**Razonamiento**:\n",
        "La subtarea requiere encontrar los polos y ceros de la transformada de Laplace X utilizando sympy. Esto implica extraer el numerador y el denominador de X y hallar sus raíces.\n"
      ]
    },
    {
      "cell_type": "code",
      "source": [
        "import sympy as sym\n",
        "sym.init_printing()\n",
        "\n",
        "# Usamos la transformada de Laplace simbólica previamente calculada, X\n",
        "t, w0 = sym.symbols('t omega0', real=True)  # Definimos t y omega0 como símbolos reales\n",
        "s = sym.symbols('s', complex=True)          # Definimos s como un símbolo complejo\n",
        "\n",
        "x = sym.sin(w0*t)  # Definimos la función x(t) = sen(omega0 * t)\n",
        "X, a, cond = sym.laplace_transform(x, t, s)  # Calculamos la transformada de Laplace de x(t)\n",
        "\n",
        "# Extraemos el numerador y el denominador de la transformada de Laplace\n",
        "numerador = sym.numer(X)\n",
        "denominador = sym.denom(X)\n",
        "\n",
        "# Encontramos los ceros resolviendo cuando el numerador es igual a cero\n",
        "ceros = sym.solve(numerador, s)\n",
        "\n",
        "# Encontramos los polos resolviendo cuando el denominador es igual a cero\n",
        "polos = sym.solve(denominador, s)\n",
        "\n",
        "# Imprimimos los polos y ceros encontrados\n",
        "print(\"Ceros de la transformada de Laplace:\", ceros)\n",
        "print(\"Polos de la transformada de Laplace:\", polos)\n"
      ],
      "metadata": {
        "colab": {
          "base_uri": "https://localhost:8080/"
        },
        "id": "BMT4Jq8qFPVz",
        "outputId": "8f34c55b-53bf-4801-c279-859e1ff94ddd"
      },
      "execution_count": 10,
      "outputs": [
        {
          "output_type": "stream",
          "name": "stdout",
          "text": [
            "Ceros de la transformada de Laplace: []\n",
            "Polos de la transformada de Laplace: [-I*omega0, I*omega0]\n"
          ]
        }
      ]
    },
    {
      "cell_type": "markdown",
      "metadata": {
        "id": "ac73eb2b"
      },
      "source": [
        "## Analizar la simetría\n",
        "\n",
        "### Subtarea:\n",
        "Explicar la simetría observada en los polos y ceros basándose en el cálculo manual y los resultados simbólicos, relacionándola con las propiedades de las transformadas de Laplace de señales reales.\n"
      ]
    },
    {
      "cell_type": "markdown",
      "metadata": {
        "id": "496cfae5"
      },
      "source": [
        "**Razonamiento**:\n",
        "Describimos la ubicación y la simetría de los polos y ceros basándonos en los resultados manuales y simbólicos, y se relaciona esto con la propiedad de las transformadas de Laplace de señales reales.\n",
        "\n"
      ]
    },
    {
      "cell_type": "code",
      "source": [
        "# 1. Describe la ubicación de los polos y ceros en el plano s.\n",
        "print(\"Basado en el cálculo manual y los resultados de SymPy:\")\n",
        "print(\"Ceros: No hay ceros finitos cuando omega0 ≠ 0.\")\n",
        "print(\"Polos: Los polos están ubicados en s = j*omega0 y s = -j*omega0 en el plano s.\")\n",
        "\n",
        "# 2. Explica la relación entre los polos y ceros encontrados (específicamente, que los polos son conjugados complejos).\n",
        "print(\"\\nLos polos en s = j*omega0 y s = -j*omega0 son conjugados complejos entre sí.\")\n",
        "print(\"Esto se debe a que tienen la misma parte real (0) y partes imaginarias opuestas (omega0 y -omega0).\")\n",
        "\n",
        "# 3. Relaciona esta simetría observada con una propiedad teórica para señales reales.\n",
        "print(\"\\nRelación con la propiedad de la transformada de Laplace para señales reales:\")\n",
        "print(\"La señal original x(t) = epsilon(t) * sen(omega0 * t) es una señal real.\")\n",
        "print(\"La sección 'Simetría para señales reales' del cuaderno indica que los polos y ceros de la transformada de Laplace de una señal real son reales o aparecen en pares de conjugados complejos.\")\n",
        "print(\"Nuestros resultados coinciden con esta propiedad: no hay ceros reales, y los polos forman un par conjugado complejo (0 + j*omega0 y 0 - j*omega0).\")\n"
      ],
      "metadata": {
        "colab": {
          "base_uri": "https://localhost:8080/"
        },
        "id": "6jmyrg17GIIF",
        "outputId": "912a7dd0-5705-4f3e-9272-c0008865d4e2"
      },
      "execution_count": 11,
      "outputs": [
        {
          "output_type": "stream",
          "name": "stdout",
          "text": [
            "Basado en el cálculo manual y los resultados de SymPy:\n",
            "Ceros: No hay ceros finitos cuando omega0 ≠ 0.\n",
            "Polos: Los polos están ubicados en s = j*omega0 y s = -j*omega0 en el plano s.\n",
            "\n",
            "Los polos en s = j*omega0 y s = -j*omega0 son conjugados complejos entre sí.\n",
            "Esto se debe a que tienen la misma parte real (0) y partes imaginarias opuestas (omega0 y -omega0).\n",
            "\n",
            "Relación con la propiedad de la transformada de Laplace para señales reales:\n",
            "La señal original x(t) = epsilon(t) * sen(omega0 * t) es una señal real.\n",
            "La sección 'Simetría para señales reales' del cuaderno indica que los polos y ceros de la transformada de Laplace de una señal real son reales o aparecen en pares de conjugados complejos.\n",
            "Nuestros resultados coinciden con esta propiedad: no hay ceros reales, y los polos forman un par conjugado complejo (0 + j*omega0 y 0 - j*omega0).\n"
          ]
        }
      ]
    },
    {
      "cell_type": "markdown",
      "source": [
        "## Resumen\n",
        "\n",
        "### Hallazgos clave del análisis de datos\n",
        "\n",
        "- La transformada de Laplace de $\\epsilon(t) \\cdot \\sin(\\omega_0 t)$ fue determinada como:  \n",
        "  $X(s) = \\dfrac{\\omega_0}{s^2 + \\omega_0^2}$.\n",
        "- Para una señal no trivial ($\\omega_0 \\neq 0$), no existen ceros finitos en esta transformada de Laplace.\n",
        "- Los polos de la transformada están ubicados en $s = j\\omega_0$ y $s = -j\\omega_0$.\n",
        "- Estos polos forman un par conjugado complejo en el plano $s$.\n",
        "- El cálculo simbólico realizado con `sympy` confirmó los resultados manuales, mostrando la ausencia de ceros finitos y los polos ubicados en $[-i\\omega_0, i\\omega_0]$.\n",
        "\n",
        "### Conclusiones\n",
        "\n",
        "- La simetría conjugada compleja observada en los polos concuerda con la propiedad teórica de que la transformada de Laplace de una señal real debe tener polos y ceros que sean reales o que aparezcan en pares de conjugados complejos.\n",
        "\n"
      ],
      "metadata": {
        "id": "L6Vr9a5AGeQx"
      }
    },
    {
      "cell_type": "markdown",
      "metadata": {
        "id": "gEsQncod0maz"
      },
      "source": [
        "### Simetría para señales reales\n",
        "\n",
        "La transformada de Laplace del complejo conjugado $x^*(t)$ de una señal $x(t)$ está dada por:\n",
        "\n",
        "\\begin{equation}\n",
        "\\mathfrak{L} \\{ x^*(t) \\} = \\int_{-\\infty}^{\\infty} x^*(t) \\, e^{-s t} dt\n",
        "= \\left( \\int_{-\\infty}^{\\infty} x(t) \\, e^{-s^* t} dt \\right)^*\n",
        "= X^*(s^*)\n",
        "\\end{equation}\n",
        "\n",
        "Donde $X(s) = \\mathfrak{L} \\{ x(t) \\}$. La ROC para $x^*(t)$ es igual a la ROC para $x(t)$. El resultado anterior se utiliza para obtener la transformada de Laplace de la parte real de la señal $x(t)$\n",
        "\n",
        "\\begin{equation}\n",
        "\\mathfrak{L} \\left\\{ \\Re \\{ x(t) \\} \\right\\} = \\mathfrak{L} \\left\\{ \\frac{1}{2} [ x(t) + x^*(t) ] \\right\\} = \\frac{1}{2} \\left[ X(s) + X^*(s^*) \\right]\n",
        "\\end{equation}\n",
        "\n",
        "y la parte imaginaria\n",
        "\n",
        "\\begin{equation}\n",
        "\\mathfrak{L} \\left\\{ \\Im \\{ x(t) \\} \\right\\} = \\mathfrak{L} \\left\\{ \\frac{1}{2j} [ x(t) - x^*(t) ] \\right\\} = \\frac{1}{2j} \\left[ X(s) - X^*(s^*) \\right]\n",
        "\\end{equation}\n",
        "\n",
        "Para una señal real $x(t) \\in \\mathbb{R}$ con $\\Im \\{ x(t) \\} = 0$ se tiene que\n",
        "\n",
        "\\begin{equation}\n",
        "X(s) = X^*(s^*)\n",
        "\\end{equation}\n",
        "\n",
        "Se puede concluir que la transformada de Laplace de una señal real muestra una simetría conjugada compleja.\n",
        "\n",
        "La parte real / imaginaria de la transformada de Laplace muestra simetría par / impar\n",
        "\n",
        "\\begin{align}\n",
        "\\Re \\{ X(s) \\} &= \\Re \\{ X(-s) \\} \\\\\n",
        "\\Im \\{ X(s) \\} &= - \\Im \\{ X(-s) \\}\n",
        "\\end{align}\n",
        "\n",
        "respectivamente y en consecuencia su magnitud / fase muestra también simetría par / impar\n",
        "\n",
        "\\begin{align}\n",
        "|X(s)| &= |X(-s)| \\\\\n",
        "\\varphi(s) &= - \\varphi(-s)\n",
        "\\end{align}\n",
        "\n",
        "Donde $\\varphi(s) = \\arg \\{ H(s) \\}$.\n",
        "\n",
        "Los polos y ceros de una transformada de Laplace que puede ser expresada como una función racional en $s$\n",
        "\n",
        "\\begin{equation}\n",
        "X(s) = \\frac{\\sum_{m=0}^{M} \\beta_m s^m}{\\sum_{n=0}^{N} \\alpha_n s^n} = K \\cdot \\frac{\\prod_{\\mu=0}^{Q} (s - s_{0 \\mu})}{\\prod_{\\nu=0}^{P} (s - s_{\\infty \\nu})}\n",
        "\\end{equation}\n",
        "\n",
        "con $Q=M-1$ y $P=N-1$, también muestra simetría específicas.\n",
        "\n",
        "De la simetría $X(s) = X^*(s^*)$ de la transformada de Laplace de una señal real $x(t) \\in \\mathbb{R}$, se puede concluir que los coeficientes $\\alpha_n, \\beta_m$ del numerador y del denominador son reales.\n",
        "\n",
        "El [teorema de las raices complejas conjugadas](https://en.wikipedia.org/wiki/Complex_conjugate_root_theorem) establece que las raíces de un polinomio con coeficientes reales son reales o van por pares complejos conjugados.\n",
        "\n",
        "Por lo tanto, los ceros y polos de la transformada de Laplace $X(s)$ de una señal real $x(t)$ son de valor real o constituyen pares conjugados complejos."
      ]
    },
    {
      "cell_type": "markdown",
      "metadata": {
        "id": "OZtkawU50ma2",
        "nbsphinx": "hidden"
      },
      "source": [
        "**Copyright**\n",
        "\n",
        "The notebooks are provided as [Open Educational Resource](https://de.wikipedia.org/wiki/Open_Educational_Resources). Feel free to use the notebooks for your own educational purposes. The text is licensed under [Creative Commons Attribution 4.0](https://creativecommons.org/licenses/by/4.0/), the code of the IPython examples under the [MIT license](https://opensource.org/licenses/MIT). Please attribute the work as follows: *Lecture Notes on Signals and Systems* by Sascha Spors."
      ]
    },
    {
      "cell_type": "code",
      "execution_count": 11,
      "metadata": {
        "id": "_1egTcyWOcxm"
      },
      "outputs": [],
      "source": []
    }
  ],
  "metadata": {
    "colab": {
      "provenance": [],
      "include_colab_link": true
    },
    "kernelspec": {
      "display_name": "Python 3",
      "language": "python",
      "name": "python3"
    },
    "language_info": {
      "codemirror_mode": {
        "name": "ipython",
        "version": 3
      },
      "file_extension": ".py",
      "mimetype": "text/x-python",
      "name": "python",
      "nbconvert_exporter": "python",
      "pygments_lexer": "ipython3",
      "version": "3.7.1"
    }
  },
  "nbformat": 4,
  "nbformat_minor": 0
}